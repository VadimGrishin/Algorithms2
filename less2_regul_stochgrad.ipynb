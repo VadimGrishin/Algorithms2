{
 "cells": [
  {
   "cell_type": "markdown",
   "metadata": {},
   "source": [
    "### Урок 2. Масштабирование признаков. Регуляризация. Стохастический градиентный спуск."
   ]
  },
  {
   "cell_type": "code",
   "execution_count": 1,
   "metadata": {
    "colab": {},
    "colab_type": "code",
    "id": "_u5bV-OlT34p"
   },
   "outputs": [],
   "source": [
    "import numpy as np\n",
    "import matplotlib.pyplot as plt"
   ]
  },
  {
   "cell_type": "code",
   "execution_count": 2,
   "metadata": {
    "colab": {},
    "colab_type": "code",
    "id": "_n6il-AZaLuA"
   },
   "outputs": [],
   "source": [
    "X = np.array([[1, 1, 1, 1, 1, 1, 1, 1, 1, 1],\n",
    "              [1, 1, 2, 5, 3, 0, 5, 10, 1, 2],\n",
    "              [500, 700, 750, 600, 1450, 800, 1500, 2000, 450, 1000],\n",
    "              [1, 1, 2, 1, 2, 1, 3, 3, 1, 2]])"
   ]
  },
  {
   "cell_type": "code",
   "execution_count": 3,
   "metadata": {
    "colab": {},
    "colab_type": "code",
    "id": "x8yoci01ni-t"
   },
   "outputs": [],
   "source": [
    "y = [45, 55, 50, 55, 60, 35, 75, 80, 50, 60]"
   ]
  },
  {
   "cell_type": "markdown",
   "metadata": {},
   "source": [
    "Нормализация [0, 1]"
   ]
  },
  {
   "cell_type": "code",
   "execution_count": 4,
   "metadata": {
    "colab": {
     "base_uri": "https://localhost:8080/",
     "height": 34
    },
    "colab_type": "code",
    "id": "Ei5qeZO_aT6m",
    "outputId": "087819d3-202a-46c9-f87d-49e17953099c"
   },
   "outputs": [
    {
     "data": {
      "text/plain": [
       "(0, 10)"
      ]
     },
     "execution_count": 4,
     "metadata": {},
     "output_type": "execute_result"
    }
   ],
   "source": [
    "X[1].min(), X[1].max()"
   ]
  },
  {
   "cell_type": "code",
   "execution_count": 5,
   "metadata": {
    "colab": {
     "base_uri": "https://localhost:8080/",
     "height": 34
    },
    "colab_type": "code",
    "id": "L7wsW1Q7b4Ts",
    "outputId": "911044d6-32c1-475a-80cd-cbaf26d5ba32"
   },
   "outputs": [
    {
     "data": {
      "text/plain": [
       "(450, 2000)"
      ]
     },
     "execution_count": 5,
     "metadata": {},
     "output_type": "execute_result"
    }
   ],
   "source": [
    "X[2].min(), X[2].max()"
   ]
  },
  {
   "cell_type": "code",
   "execution_count": 6,
   "metadata": {
    "colab": {
     "base_uri": "https://localhost:8080/",
     "height": 121
    },
    "colab_type": "code",
    "id": "E55S9Bzob9Xa",
    "outputId": "4abf56a2-d484-4c24-8520-8ed1b58ccca8"
   },
   "outputs": [
    {
     "data": {
      "text/plain": [
       "array([[1.00e+00, 1.00e+00, 1.00e+00, 1.00e+00, 1.00e+00, 1.00e+00,\n",
       "        1.00e+00, 1.00e+00, 1.00e+00, 1.00e+00],\n",
       "       [1.00e+00, 1.00e+00, 2.00e+00, 5.00e+00, 3.00e+00, 0.00e+00,\n",
       "        5.00e+00, 1.00e+01, 1.00e+00, 2.00e+00],\n",
       "       [5.00e+02, 7.00e+02, 7.50e+02, 6.00e+02, 1.45e+03, 8.00e+02,\n",
       "        1.50e+03, 2.00e+03, 4.50e+02, 1.00e+03],\n",
       "       [1.00e+00, 1.00e+00, 2.00e+00, 1.00e+00, 2.00e+00, 1.00e+00,\n",
       "        3.00e+00, 3.00e+00, 1.00e+00, 2.00e+00]])"
      ]
     },
     "execution_count": 6,
     "metadata": {},
     "output_type": "execute_result"
    }
   ],
   "source": [
    "X_norm = X.copy()\n",
    "X_norm = X_norm.astype(np.float64)\n",
    "X_norm"
   ]
  },
  {
   "cell_type": "code",
   "execution_count": 7,
   "metadata": {
    "colab": {
     "base_uri": "https://localhost:8080/",
     "height": 121
    },
    "colab_type": "code",
    "id": "7x-6IuPOcIo0",
    "outputId": "1668fec7-37ae-4671-ad9f-f093c30a6c72"
   },
   "outputs": [
    {
     "data": {
      "text/plain": [
       "array([[1.00e+00, 1.00e+00, 1.00e+00, 1.00e+00, 1.00e+00, 1.00e+00,\n",
       "        1.00e+00, 1.00e+00, 1.00e+00, 1.00e+00],\n",
       "       [1.00e-01, 1.00e-01, 2.00e-01, 5.00e-01, 3.00e-01, 0.00e+00,\n",
       "        5.00e-01, 1.00e+00, 1.00e-01, 2.00e-01],\n",
       "       [5.00e+02, 7.00e+02, 7.50e+02, 6.00e+02, 1.45e+03, 8.00e+02,\n",
       "        1.50e+03, 2.00e+03, 4.50e+02, 1.00e+03],\n",
       "       [1.00e+00, 1.00e+00, 2.00e+00, 1.00e+00, 2.00e+00, 1.00e+00,\n",
       "        3.00e+00, 3.00e+00, 1.00e+00, 2.00e+00]])"
      ]
     },
     "execution_count": 7,
     "metadata": {},
     "output_type": "execute_result"
    }
   ],
   "source": [
    "X_norm[1] = (X[1] - X[1].min()) / (X[1].max() - X[1].min())\n",
    "X_norm"
   ]
  },
  {
   "cell_type": "code",
   "execution_count": 8,
   "metadata": {
    "colab": {
     "base_uri": "https://localhost:8080/",
     "height": 121
    },
    "colab_type": "code",
    "id": "izkMRdXFcjyK",
    "outputId": "982b8c8d-629d-4c4a-a3d5-67854cee4a4a"
   },
   "outputs": [
    {
     "data": {
      "text/plain": [
       "array([[1.        , 1.        , 1.        , 1.        , 1.        ,\n",
       "        1.        , 1.        , 1.        , 1.        , 1.        ],\n",
       "       [0.1       , 0.1       , 0.2       , 0.5       , 0.3       ,\n",
       "        0.        , 0.5       , 1.        , 0.1       , 0.2       ],\n",
       "       [0.03225806, 0.16129032, 0.19354839, 0.09677419, 0.64516129,\n",
       "        0.22580645, 0.67741935, 1.        , 0.        , 0.35483871],\n",
       "       [1.        , 1.        , 2.        , 1.        , 2.        ,\n",
       "        1.        , 3.        , 3.        , 1.        , 2.        ]])"
      ]
     },
     "execution_count": 8,
     "metadata": {},
     "output_type": "execute_result"
    }
   ],
   "source": [
    "X_norm[2] = (X[2] - X[2].min()) / (X[2].max() - X[2].min())\n",
    "X_norm"
   ]
  },
  {
   "cell_type": "markdown",
   "metadata": {
    "colab": {},
    "colab_type": "code",
    "id": "Zy63bpFfeqzu"
   },
   "source": [
    "Стандартизация"
   ]
  },
  {
   "cell_type": "code",
   "execution_count": 9,
   "metadata": {
    "colab": {
     "base_uri": "https://localhost:8080/",
     "height": 317
    },
    "colab_type": "code",
    "id": "8i9pB-3-fMD4",
    "outputId": "3cbe76f6-d000-4fcd-fe86-ffe853403356"
   },
   "outputs": [
    {
     "data": {
      "image/png": "[encoded data removed]",
      "text/plain": [
       "<Figure size 432x288 with 1 Axes>"
      ]
     },
     "metadata": {
      "needs_background": "light"
     },
     "output_type": "display_data"
    }
   ],
   "source": [
    "plt.hist(X[1])\n",
    "plt.show()"
   ]
  },
  {
   "cell_type": "code",
   "execution_count": 10,
   "metadata": {
    "colab": {
     "base_uri": "https://localhost:8080/",
     "height": 335
    },
    "colab_type": "code",
    "id": "-bnAYQqVfRX-",
    "outputId": "d59b0013-49bc-40fa-cb29-e71403e6e9e0"
   },
   "outputs": [
    {
     "data": {
      "image/png": "[encoded data removed]",
      "text/plain": [
       "<Figure size 432x288 with 1 Axes>"
      ]
     },
     "metadata": {
      "needs_background": "light"
     },
     "output_type": "display_data"
    }
   ],
   "source": [
    "plt.hist(X[2])\n",
    "plt.show()"
   ]
  },
  {
   "cell_type": "code",
   "execution_count": 11,
   "metadata": {
    "colab": {},
    "colab_type": "code",
    "id": "M57-Pzl_f_rF"
   },
   "outputs": [
    {
     "name": "stdout",
     "output_type": "stream",
     "text": [
      "3.0 2.8284271247461903\n"
     ]
    }
   ],
   "source": [
    "X_st = X.copy().astype(np.float64)\n",
    "X1_mean = X[1].mean()\n",
    "X1_std = X[1].std()\n",
    "print(X1_mean, X1_std)"
   ]
  },
  {
   "cell_type": "code",
   "execution_count": 12,
   "metadata": {
    "colab": {
     "base_uri": "https://localhost:8080/",
     "height": 294
    },
    "colab_type": "code",
    "id": "btJMY0YbgKLb",
    "outputId": "40010205-def9-4582-9a5d-e513e85b7a4e"
   },
   "outputs": [
    {
     "data": {
      "text/plain": [
       "array([[ 1.00000000e+00,  1.00000000e+00,  1.00000000e+00,\n",
       "         1.00000000e+00,  1.00000000e+00,  1.00000000e+00,\n",
       "         1.00000000e+00,  1.00000000e+00,  1.00000000e+00,\n",
       "         1.00000000e+00],\n",
       "       [-7.07106781e-01, -7.07106781e-01, -3.53553391e-01,\n",
       "         7.07106781e-01,  0.00000000e+00, -1.06066017e+00,\n",
       "         7.07106781e-01,  2.47487373e+00, -7.07106781e-01,\n",
       "        -3.53553391e-01],\n",
       "       [ 5.00000000e+02,  7.00000000e+02,  7.50000000e+02,\n",
       "         6.00000000e+02,  1.45000000e+03,  8.00000000e+02,\n",
       "         1.50000000e+03,  2.00000000e+03,  4.50000000e+02,\n",
       "         1.00000000e+03],\n",
       "       [ 1.00000000e+00,  1.00000000e+00,  2.00000000e+00,\n",
       "         1.00000000e+00,  2.00000000e+00,  1.00000000e+00,\n",
       "         3.00000000e+00,  3.00000000e+00,  1.00000000e+00,\n",
       "         2.00000000e+00]])"
      ]
     },
     "execution_count": 12,
     "metadata": {},
     "output_type": "execute_result"
    }
   ],
   "source": [
    "X_st[1] = (X[1] - X1_mean) / X1_std\n",
    "X_st"
   ]
  },
  {
   "cell_type": "code",
   "execution_count": 13,
   "metadata": {
    "colab": {
     "base_uri": "https://localhost:8080/",
     "height": 352
    },
    "colab_type": "code",
    "id": "-Y1tzWGCgYjA",
    "outputId": "89dc21fe-180f-4e68-f30f-1cf276c4f154"
   },
   "outputs": [
    {
     "data": {
      "image/png": "[encoded data removed]",
      "text/plain": [
       "<Figure size 432x288 with 1 Axes>"
      ]
     },
     "metadata": {
      "needs_background": "light"
     },
     "output_type": "display_data"
    }
   ],
   "source": [
    "plt.hist(X_st[1])\n",
    "plt.show()"
   ]
  },
  {
   "cell_type": "code",
   "execution_count": 14,
   "metadata": {
    "colab": {},
    "colab_type": "code",
    "id": "ZlJUBOyzgkJV"
   },
   "outputs": [],
   "source": [
    "def calc_std_fit(x):\n",
    "    res = (x - x.mean()) / x.std()\n",
    "    return res"
   ]
  },
  {
   "cell_type": "code",
   "execution_count": 15,
   "metadata": {
    "colab": {},
    "colab_type": "code",
    "id": "6PlDlFY0hGZA"
   },
   "outputs": [],
   "source": [
    "X_st[2] = calc_std_fit(X[2])"
   ]
  },
  {
   "cell_type": "code",
   "execution_count": 16,
   "metadata": {
    "colab": {
     "base_uri": "https://localhost:8080/",
     "height": 155
    },
    "colab_type": "code",
    "id": "LOKhmhJjt9TR",
    "outputId": "2b131d78-9066-462b-dfa9-778758f3d363"
   },
   "outputs": [
    {
     "data": {
      "text/plain": [
       "array([[ 1.        ,  1.        ,  1.        ,  1.        ,  1.        ,\n",
       "         1.        ,  1.        ,  1.        ,  1.        ,  1.        ],\n",
       "       [-0.70710678, -0.70710678, -0.35355339,  0.70710678,  0.        ,\n",
       "        -1.06066017,  0.70710678,  2.47487373, -0.70710678, -0.35355339],\n",
       "       [-0.97958969, -0.56713087, -0.46401617, -0.77336028,  0.97958969,\n",
       "        -0.36090146,  1.08270439,  2.11385144, -1.08270439,  0.05155735],\n",
       "       [-0.89625816, -0.89625816,  0.38411064, -0.89625816,  0.38411064,\n",
       "        -0.89625816,  1.66447944,  1.66447944, -0.89625816,  0.38411064]])"
      ]
     },
     "execution_count": 16,
     "metadata": {},
     "output_type": "execute_result"
    }
   ],
   "source": [
    "X_st[3] = calc_std_fit(X[3])\n",
    "X_st"
   ]
  },
  {
   "cell_type": "markdown",
   "metadata": {
    "colab": {},
    "colab_type": "code",
    "id": "UdGy9tjVhZol"
   },
   "source": [
    "SGD (Stochastic gradient descent)"
   ]
  },
  {
   "cell_type": "code",
   "execution_count": 17,
   "metadata": {
    "colab": {},
    "colab_type": "code",
    "id": "VDpN7UxYnrcS"
   },
   "outputs": [],
   "source": [
    "def calc_mse(y, y_pred):\n",
    "    err = np.mean((y - y_pred)**2)\n",
    "    return err"
   ]
  },
  {
   "cell_type": "code",
   "execution_count": 18,
   "metadata": {
    "colab": {},
    "colab_type": "code",
    "id": "SgEyis2zlJeb"
   },
   "outputs": [],
   "source": [
    "def eval_model(X, y, iterations, alpha=1e-4):\n",
    "    W = np.random.randn(X.shape[0])\n",
    "    n = X.shape[1]\n",
    "    for i in range(1, iterations+1):\n",
    "        y_pred = np.dot(W, X)\n",
    "        err = calc_mse(y, y_pred)\n",
    "        W -= (alpha * (1/n * 2 * np.dot((y_pred - y), X.T)))\n",
    "        if i % (iterations / 10) == 0:\n",
    "            print(i, W, err)\n",
    "    return W"
   ]
  },
  {
   "cell_type": "code",
   "execution_count": 19,
   "metadata": {
    "colab": {
     "base_uri": "https://localhost:8080/",
     "height": 207
    },
    "colab_type": "code",
    "id": "4nsYMAGjmFlB",
    "outputId": "8959a8af-3d27-42a6-afae-5db46c794fe1"
   },
   "outputs": [
    {
     "name": "stdout",
     "output_type": "stream",
     "text": [
      "100 [48.88587058  4.43568698  3.60862973  4.23121521] 88.15651889725243\n",
      "200 [55.49021754  5.0851645   2.8034822   4.49983224] 27.688945785290525\n",
      "300 [56.3660831   5.46901723  2.16968118  4.78262838] 26.009280919216355\n",
      "400 [56.48224     5.71073406  1.67527805  5.05797656] 25.60871223347337\n",
      "500 [56.49764468  5.86853464  1.28458227  5.307211  ] 25.36683222718691\n",
      "600 [56.49968764  5.97551569  0.97290163  5.52405287] 25.210097271946047\n",
      "700 [56.49995857  6.05077463  0.7225832   5.70836089] 25.107103584439773\n",
      "800 [56.49999451  6.10552978  0.52060309  5.86276657] 25.039015632192733\n",
      "900 [56.49999927  6.14652595  0.35709853  5.99093067] 24.99387828212779\n",
      "1000 [56.4999999   6.17793692  0.22444574  6.09667372] 24.963917205389354\n"
     ]
    },
    {
     "data": {
      "text/plain": [
       "array([56.4999999 ,  6.17793692,  0.22444574,  6.09667372])"
      ]
     },
     "execution_count": 19,
     "metadata": {},
     "output_type": "execute_result"
    }
   ],
   "source": [
    "eval_model(X_st, y, iterations=1000, alpha=1e-2)"
   ]
  },
  {
   "cell_type": "code",
   "execution_count": 20,
   "metadata": {},
   "outputs": [],
   "source": [
    "def eval_sgd_model(X, y, iterations, qty_in_batch, alpha=1e-4):\n",
    "    W = np.random.randn(X.shape[0])\n",
    "    n = X.shape[1]\n",
    "    n_batch = n // qty_in_batch\n",
    "    \n",
    "    if n % qty_in_batch != 0:\n",
    "        n_batch += 1\n",
    "        \n",
    "    for i in range(1, iterations+1):\n",
    "        for b in range(n_batch):\n",
    "            start_ = qty_in_batch*b\n",
    "            end_ = qty_in_batch*(b+1)\n",
    "#             print(b, n_batch, start_, end_)\n",
    "            X_tmp = X[:, start_ : end_]\n",
    "            y_tmp = y[start_ : end_]\n",
    "\n",
    "            y_pred_tmp = np.dot(W, X_tmp)\n",
    "            err = calc_mse(y_tmp, y_pred_tmp)\n",
    "\n",
    "            W -= (alpha * (1/n * 2 * np.dot((y_pred_tmp - y_tmp), X_tmp.T)))\n",
    "        \n",
    "        if i % (iterations / 10) == 0:\n",
    "            print(i, W, err)\n",
    "    return W"
   ]
  },
  {
   "cell_type": "code",
   "execution_count": 21,
   "metadata": {
    "colab": {
     "base_uri": "https://localhost:8080/",
     "height": 207
    },
    "colab_type": "code",
    "id": "2aXap4Vsm3GV",
    "outputId": "8b666b76-9d01-4b6d-813c-f1d3f5901f5f"
   },
   "outputs": [
    {
     "name": "stdout",
     "output_type": "stream",
     "text": [
      "500 [56.50790799  5.90363756  1.08461759  5.49168586] 13.081083558024403\n",
      "1000 [56.51047759  6.20158506  0.14535936  6.16869334] 11.959508720892007\n",
      "1500 [56.51056766  6.27458743 -0.18172521  6.43383328] 11.53048782665761\n",
      "2000 [56.51060132  6.29909845 -0.29883694  6.53032   ] 11.375816437526755\n",
      "2500 [56.5106135   6.30782632 -0.34093816  6.56508658] 11.32031575052416\n",
      "3000 [56.51061789  6.31096148 -0.35608212  6.57759634] 11.300377371593779\n",
      "3500 [56.51061946  6.31208908 -0.36152991  6.58209673] 11.293208777760736\n",
      "4000 [56.51062003  6.31249471 -0.36348968  6.5837157 ] 11.290630502920738\n",
      "4500 [56.51062023  6.31264063 -0.36419469  6.5842981 ] 11.289703070554262\n",
      "5000 [56.51062031  6.31269312 -0.3644483   6.58450761] 11.28936944710487\n"
     ]
    },
    {
     "data": {
      "text/plain": [
       "array([56.51062031,  6.31269312, -0.3644483 ,  6.58450761])"
      ]
     },
     "execution_count": 21,
     "metadata": {},
     "output_type": "execute_result"
    }
   ],
   "source": [
    "eval_sgd_model(X_st, y, iterations=5000, qty_in_batch=4, alpha=1e-2)"
   ]
  },
  {
   "cell_type": "markdown",
   "metadata": {
    "colab": {},
    "colab_type": "code",
    "id": "DYTxT_6OrZpe"
   },
   "source": [
    "L1 регуляризация"
   ]
  },
  {
   "cell_type": "raw",
   "metadata": {
    "colab": {},
    "colab_type": "code",
    "id": "Ojkn7xKrsyiw"
   },
   "source": [
    "f(x, W) + (lambda_/2) * np.sum(np.abs(W))"
   ]
  },
  {
   "cell_type": "markdown",
   "metadata": {
    "colab": {},
    "colab_type": "code",
    "id": "j38vId7Hvtg0"
   },
   "source": [
    "L2 регуляризация"
   ]
  },
  {
   "cell_type": "raw",
   "metadata": {
    "colab": {},
    "colab_type": "code",
    "id": "KO5BtZ7svv4k"
   },
   "source": [
    "f(x, W) + (lambda_/2) * np.sum(W**2)"
   ]
  },
  {
   "cell_type": "code",
   "execution_count": 22,
   "metadata": {
    "colab": {},
    "colab_type": "code",
    "id": "7AVoe1Mswjni"
   },
   "outputs": [],
   "source": [
    "def eval_model_reg2(X, y, iterations, alpha=1e-4, lambda_=1e-8):\n",
    "    np.random.seed(42)\n",
    "    W = np.random.randn(X.shape[0])\n",
    "    n = X.shape[1]\n",
    "    for i in range(1, iterations+1):\n",
    "        y_pred = np.dot(W, X)\n",
    "        err = calc_mse(y, y_pred)\n",
    "        W -= alpha * (1/n * 2 * np.dot((y_pred - y), X.T) + lambda_ * W) \n",
    "        if i % (iterations / 10) == 0:\n",
    "            print(i, W, err)\n",
    "    return np.hstack([W, err])"
   ]
  },
  {
   "cell_type": "code",
   "execution_count": 23,
   "metadata": {
    "colab": {
     "base_uri": "https://localhost:8080/",
     "height": 207
    },
    "colab_type": "code",
    "id": "vLJL6j8Lw6OA",
    "outputId": "dac9ef42-5966-4404-9346-aeb18cca83c6"
   },
   "outputs": [
    {
     "name": "stdout",
     "output_type": "stream",
     "text": [
      "500 [53.80821107  5.55425006  1.53274869  5.12255487] 32.856077085606366\n",
      "1000 [53.80952378  5.70466966  1.09946397  5.42237988] 32.5901684647151\n",
      "1500 [53.80952381  5.72532537  1.00880545  5.49542065] 32.54458841197802\n",
      "2000 [53.80952381  5.7294535   0.98915646  5.51158348] 32.53510515825502\n",
      "2500 [53.80952381  5.73034197  0.98487589  5.51511492] 32.53305784034792\n",
      "3000 [53.80952381  5.73053533  0.98394268  5.51588514] 32.5326123796069\n",
      "3500 [53.80952381  5.73057748  0.9837392   5.51605308] 32.53251529552861\n",
      "4000 [53.80952381  5.73058667  0.98369484  5.5160897 ] 32.53249412956087\n",
      "4500 [53.80952381  5.73058868  0.98368517  5.51609768] 32.53248951467818\n",
      "5000 [53.80952381  5.73058911  0.98368306  5.51609942] 32.532488508464574\n"
     ]
    },
    {
     "data": {
      "text/plain": [
       "array([53.80952381,  5.73058911,  0.98368306,  5.51609942, 32.53248851])"
      ]
     },
     "execution_count": 23,
     "metadata": {},
     "output_type": "execute_result"
    }
   ],
   "source": [
    "eval_model_reg2(X_st, y, iterations=5000, alpha=1e-2, lambda_=1e-1)"
   ]
  },
  {
   "cell_type": "code",
   "execution_count": 24,
   "metadata": {
    "colab": {
     "base_uri": "https://localhost:8080/",
     "height": 207
    },
    "colab_type": "code",
    "id": "4nsYMAGjmFlB",
    "outputId": "8959a8af-3d27-42a6-afae-5db46c794fe1"
   },
   "outputs": [
    {
     "name": "stdout",
     "output_type": "stream",
     "text": [
      "500 [56.49767254  5.83477719  1.36781865  5.25424451] 25.41382962551479\n",
      "1000 [56.4999999   6.17124081  0.25269258  6.07416416] 24.969784391475404\n",
      "1500 [56.5         6.2575128  -0.13774522  6.39128671] 24.913059475565486\n",
      "2000 [56.5         6.28678323 -0.27772011  6.50655795] 24.90571241785009\n",
      "2500 [56.5         6.29722767 -0.32807425  6.54810646] 24.904760553791704\n",
      "3000 [56.5         6.30098239 -0.34619733  6.56306445] 24.904637232271696\n",
      "3500 [56.5         6.30233363 -0.3527205   6.5684486 ] 24.904621254991188\n",
      "4000 [56.5         6.30281999 -0.35506846  6.57038658] 24.904619185007853\n",
      "4500 [56.5         6.30299505 -0.35591359  6.57108415] 24.904618916825108\n",
      "5000 [56.5         6.30305806 -0.35621778  6.57133523] 24.904618882079912\n"
     ]
    },
    {
     "data": {
      "text/plain": [
       "array([56.5       ,  6.30305806, -0.35621778,  6.57133523])"
      ]
     },
     "execution_count": 24,
     "metadata": {},
     "output_type": "execute_result"
    }
   ],
   "source": [
    "eval_model(X_st, y, iterations=5000, alpha=1e-2)"
   ]
  },
  {
   "cell_type": "markdown",
   "metadata": {},
   "source": [
    "## ДЗ"
   ]
  },
  {
   "cell_type": "markdown",
   "metadata": {
    "collapsed": true
   },
   "source": [
    "### 1. Постройте график зависимости весов всех признаков от lambda в L2-регуляризации (на данных из урока)."
   ]
  },
  {
   "cell_type": "code",
   "execution_count": 25,
   "metadata": {},
   "outputs": [
    {
     "name": "stdout",
     "output_type": "stream",
     "text": [
      "500 [56.49742015  5.89981731  1.04002088  5.52750782] 25.23725925553023\n",
      "1000 [56.49971741  6.19554246  0.1345155   6.17185235] 24.946884474315077\n",
      "1500 [56.4997175   6.26626162 -0.18017709  6.42632479] 24.91010001260788\n",
      "2000 [56.4997175   6.28988752 -0.29286827  6.51906958] 24.905331877733733\n",
      "2500 [56.4997175   6.29829753 -0.33339911  6.55250966] 24.904712354520164\n",
      "3000 [56.4997175   6.3013197  -0.34798561  6.56454856] 24.904631435564106\n",
      "3500 [56.4997175   6.30240721 -0.35323555  6.56888179] 24.90462071433125\n",
      "4000 [56.4997175   6.30279862 -0.35512513  6.57044143] 24.90461923957474\n",
      "4500 [56.4997175   6.30293949 -0.35580523  6.57100279] 24.90461901761902\n",
      "5000 [56.4997175   6.3029902  -0.35605002  6.57120483] 24.9046189777411\n",
      "500 [56.49713779  5.89977907  1.04007923  5.5274611 ] 25.23729184124907\n",
      "1000 [56.49943491  6.19548392  0.1346414   6.17175588] 24.94690660969561\n",
      "1500 [56.49943501  6.26619431 -0.18001176  6.42619636] 24.910110540812532\n",
      "2000 [56.49943501  6.28981607 -0.29268317  6.51892487] 24.90533627465343\n",
      "2500 [56.49943501  6.29822418 -0.33320486  6.55235741] 24.904714178805428\n",
      "3000 [56.49943501  6.30124552 -0.34778734  6.56439298] 24.904632272175267\n",
      "3500 [56.49943501  6.30233268 -0.35303558  6.56872481] 24.90462118563159\n",
      "4000 [56.49943501  6.30272394 -0.35492444  6.57028386] 24.904619577887917\n",
      "4500 [56.49943501  6.30286475 -0.35560426  6.57084498] 24.90461930784441\n",
      "5000 [56.49943501  6.30291543 -0.35584892  6.57104692] 24.90461925062683\n",
      "500 [56.49657306  5.89970258  1.04019594  5.52736766] 25.237357495742046\n",
      "1000 [56.49886993  6.19536685  0.13489319  6.17156297] 24.946951376961742\n",
      "1500 [56.49887002  6.2660597  -0.17968113  6.42593952] 24.910132107310698\n",
      "2000 [56.49887002  6.28967319 -0.29231301  6.51863548] 24.905345587106233\n",
      "2500 [56.49887002  6.29807751 -0.33281643  6.55205294] 24.90471835027136\n",
      "3000 [56.49887002  6.30109718 -0.34739087  6.56408189] 24.904634470223385\n",
      "3500 [56.49887002  6.30218363 -0.35263569  6.56841089] 24.904622653880264\n",
      "4000 [56.49887002  6.30257459 -0.35452313  6.56996877] 24.904620780501304\n",
      "4500 [56.49887002  6.30271529 -0.35520237  6.57052941] 24.904620414419217\n",
      "5000 [56.49887002  6.30276592 -0.3554468   6.57073116] 24.90462032257694\n",
      "500 [56.49544364  5.89954962  1.04042933  5.52718082] 25.23749073681211\n",
      "1000 [56.49774     6.19513273  0.13539668  6.1711772 ] 24.947042897354315\n",
      "1500 [56.49774009  6.26579054 -0.17902004  6.42542595] 24.910177280469497\n",
      "2000 [56.49774009  6.28938747 -0.29157289  6.51805686] 24.90536628624618\n",
      "2500 [56.49774009  6.29778421 -0.33203977  6.55144418] 24.904728784548478\n",
      "3000 [56.49774009  6.30080056 -0.34659815  6.56345987] 24.904640965377673\n",
      "3500 [56.49774009  6.30188559 -0.35183614  6.56778323] 24.904627692720048\n",
      "4000 [56.49774009  6.30227597 -0.35372075  6.56933877] 24.904625289424587\n",
      "4500 [56.49774009  6.30241642 -0.35439882  6.56989845] 24.904624731812458\n",
      "5000 [56.49774009  6.30246696 -0.3546428   6.57009983] 24.904624570938797\n",
      "500 [56.49318494  5.89924375  1.04089601  5.52680719] 25.237764946193312\n",
      "1000 [56.49548027  6.1946646   0.13640332  6.17040593] 24.94723388030346\n",
      "1500 [56.49548036  6.26525236 -0.17769843  6.42439928] 24.910275785896165\n",
      "2000 [56.49548036  6.28881623 -0.29009339  6.51690021] 24.90541597970674\n",
      "2500 [56.49548036  6.29719783 -0.33048731  6.55022733] 24.9047580165941\n",
      "3000 [56.49548036  6.30020754 -0.34501362  6.56221654] 24.90466234995744\n",
      "3500 [56.49548036  6.30128974 -0.35023797  6.56652865] 24.904646177773564\n",
      "4000 [56.49548036  6.30167895 -0.35211692  6.56807952] 24.90464272004517\n",
      "4500 [56.49548036  6.30181893 -0.35279269  6.5686373 ] 24.90464178155402\n",
      "5000 [56.49548036  6.30186927 -0.35303574  6.56883791] 24.904641483486433\n",
      "500 [56.48866809  5.89863215  1.04182899  5.5260602 ] 25.238344265158283\n",
      "1000 [56.49096135  6.19372878  0.1384152   6.1688644 ] 24.947647604643116\n",
      "1500 [56.49096145  6.26417666 -0.17505756  6.42234773] 24.910505420864162\n",
      "2000 [56.49096145  6.28767454 -0.28713742  6.51458926] 24.905548533308746\n",
      "2500 [56.49096145  6.29602595 -0.32738581  6.5477963 ] 24.904849919546972\n",
      "3000 [56.49096145  6.29902241 -0.34184818  6.55973274] 24.90473868053137\n",
      "3500 [56.49096145  6.30009899 -0.34704537  6.56402244] 24.904716761427856\n",
      "4000 [56.49096145  6.30048586 -0.34891305  6.56556401] 24.904711216304218\n",
      "4500 [56.49096145  6.30062489 -0.34958423  6.566118  ] 24.904709524720836\n",
      "5000 [56.49096145  6.30067485 -0.34982543  6.56631708] 24.90470895571514\n",
      "500 [56.47963653  5.89740957  1.04369336  5.52456731] 25.239626433836875\n",
      "1000 [56.48192569  6.19185887  0.1424334   6.16578545] 24.9486020054294\n",
      "1500 [56.48192578  6.26202784 -0.1697852   6.41825183] 24.911095088805514\n",
      "2000 [56.48192578  6.2853943  -0.28123751  6.50997674] 24.90594619508456\n",
      "2500 [56.48192578  6.29368565 -0.3211964   6.54294493] 24.90516736029855\n",
      "3000 [56.48192578  6.29665579 -0.33553175  6.55477654] 24.905025462234427\n",
      "3500 [56.48192578  6.2977212  -0.34067504  6.55902174] 24.904992255615664\n",
      "4000 [56.48192578  6.29810345 -0.34252039  6.56054488] 24.904982620555156\n",
      "4500 [56.48192578  6.29824059 -0.34318249  6.56109137] 24.904979456987846\n",
      "5000 [56.48192578  6.2982898  -0.34342004  6.56128744] 24.904978359701715\n",
      "500 [56.46158208  5.89496692  1.04741584  5.52158584] 25.24268433421979\n",
      "1000 [56.46386303  6.18812599  0.15044765  6.15964387] 24.951017963120027\n",
      "1500 [56.46386313  6.25774047 -0.15927783  6.41008871] 24.91279523097307\n",
      "2000 [56.46386313  6.28084631 -0.26948561  6.50078909] 24.907270842602294\n",
      "2500 [56.46386313  6.28901883 -0.30887178  6.53328474] 24.906335820037068\n",
      "3000 [56.46386313  6.29193703 -0.32295642  6.54490943] 24.906134511178287\n",
      "3500 [56.46386313  6.29298046 -0.32799358  6.54906704] 24.906079537435467\n",
      "4000 [56.46386313  6.29335362 -0.32979507  6.55055397] 24.9060620538311\n",
      "4500 [56.46386313  6.29348708 -0.33043936  6.55108576] 24.90605607946525\n",
      "5000 [56.46386313  6.29353481 -0.33066978  6.55127595] 24.906053978408945\n",
      "500 [56.42550771  5.89009154  1.05483578  5.51564012] 25.250769915693663\n",
      "1000 [56.42777236  6.18068788  0.16638793  6.14742569] 24.957873299731535\n",
      "1500 [56.42777245  6.24920665 -0.13841149  6.39387638] 24.918272484578885\n",
      "2000 [56.42777245  6.27179996 -0.24617196  6.4825621 ] 24.91203032478562\n",
      "2500 [56.42777245  6.27973994 -0.28443726  6.51413294] 24.91079942110739\n",
      "3000 [56.42777245  6.28255696 -0.29803359  6.5253546 ] 24.910486643110296\n",
      "3500 [56.42777245  6.28355778 -0.30286504  6.52934241] 24.910391231854128\n",
      "4000 [56.42777245  6.28391341 -0.30458191  6.5307595 ] 24.910359314012407\n",
      "4500 [56.42777245  6.28403979 -0.305192    6.53126307] 24.91034822277146\n",
      "5000 [56.42777245  6.28408469 -0.3054088   6.53144202] 24.910344313134\n",
      "500 [56.35349686  5.88038038  1.06957615  5.50381718] 25.274784563530268\n",
      "1000 [56.35572924  6.16592121  0.19791924  6.1232466 ] 24.979636273639404\n",
      "1500 [56.35572933  6.23230062 -0.09726432  6.36190097] 24.937485295003494\n",
      "2000 [56.35572933  6.25390293 -0.20029283  6.44669129] 24.929933887042587\n",
      "2500 [56.35572933  6.26139753 -0.23641145  6.47649096] 24.92817320286987\n",
      "3000 [56.35572933  6.26402263 -0.24908146  6.48694809] 24.927664797676403\n",
      "3500 [56.35572933  6.26494337 -0.25352636  6.49061684] 24.92749988361029\n",
      "4000 [56.35572933  6.26526638 -0.25508573  6.49190394] 24.927443682474244\n",
      "4500 [56.35572933  6.2653797  -0.2556328   6.49235549] 24.927424169362883\n",
      "5000 [56.35572933  6.26541946 -0.25582473  6.49251391] 24.927417348735297\n",
      "500 [56.21002425  5.86111497  1.09866324  5.48044206] 25.353904811522533\n",
      "1000 [56.21219348  6.13681854  0.25961252  6.07589625] 25.05504415157875\n",
      "1500 [ 5.62121936e+01  6.19911978e+00 -1.72489660e-02  6.29969730e+00] 25.008554881258874\n",
      "2000 [56.21219357  6.2188692  -0.1114308   6.37720505] 24.998841254088326\n",
      "2500 [56.21219357  6.2255468  -0.14361158  6.40375571] 24.996239723426125\n",
      "3000 [56.21219357  6.22782646 -0.15461431  6.41283676] 24.995434215068368\n",
      "3500 [56.21219357  6.22860579 -0.15837653  6.41594204] 24.99516860236469\n",
      "4000 [56.21219357  6.22887227 -0.15966298  6.41700386] 24.995078927045512\n",
      "4500 [56.21219357  6.22896339 -0.16010287  6.41736694] 24.9950483977338\n",
      "5000 [56.21219357  6.22899454 -0.16025328  6.41749109] 24.99503797424577\n",
      "500 [55.92525606  5.82320051  1.15529737  5.43475013] 25.634278601770312\n",
      "1000 [55.92730433  6.08027706  0.37773589  5.98506363] 25.330828244138026\n",
      "1500 [55.9273044   6.13516605  0.13414534  6.18189904] 25.27826665644384\n"
     ]
    },
    {
     "name": "stdout",
     "output_type": "stream",
     "text": [
      "2000 [5.59273044e+01 6.15167498e+00 5.54332114e-02 6.24667260e+00] 25.265715438948813\n",
      "2500 [5.59273044e+01 6.15697670e+00 2.98838020e-02 6.26775192e+00] 25.2621116658055\n",
      "3000 [5.59273044e+01 6.15869608e+00 2.15853079e-02 6.27460103e+00] 25.260990809043818\n",
      "3500 [5.59273044e+01 6.15925447e+00 1.88896958e-02 6.27682595e+00] 25.260631959141286\n",
      "4000 [5.59273044e+01 6.15943585e+00 1.80140647e-02 6.27754869e+00] 25.260515944746253\n",
      "4500 [5.59273044e+01 6.15949476e+00 1.77296280e-02 6.27778346e+00] 25.260478317395645\n",
      "5000 [5.59273044e+01 6.15951390e+00 1.76372325e-02 6.27785973e+00] 25.260466100818554\n",
      "500 [55.36427585  5.74974989  1.26267113  5.3474088 ] 26.666234496864234\n",
      "1000 [55.36610217  5.97340891  0.59452595  5.81765632] 26.362675787483745\n",
      "1500 [55.36610223  6.01603823  0.40586459  5.96999359] 26.30553478801778\n",
      "2000 [55.36610223  6.02757992  0.35085873  6.01525422] 26.291225797322312\n",
      "2500 [55.36610223  6.03092359  0.33474631  6.02854744] 26.287237103457393\n",
      "3000 [55.36610223  6.03190213  0.33002349  6.03244538] 26.28608536853804\n",
      "3500 [55.36610223  6.03218891  0.32863903  6.0335881 ] 26.285749240187744\n",
      "4000 [55.36610223  6.03227298  0.32823317  6.03392309] 26.285650833301013\n",
      "4500 [55.36610223  6.03229763  0.3281142   6.03402129] 26.28562199648676\n",
      "5000 [55.36610223  6.03230485  0.32807932  6.03405008] 26.285613543956508\n",
      "500 [54.27536906  5.61170874  1.45581159  5.18748762] 30.48423896862959\n",
      "1000 [54.27682136  5.78143326  0.96138792  5.53144915] 30.20320120580048\n",
      "1500 [54.2768214   5.80720376  0.84798652  5.62287695] 30.152349418050584\n",
      "2000 [54.2768214   5.81285627  0.82107111  5.64501913] 30.14095637979089\n",
      "2500 [54.2768214   5.81418876  0.8146509   5.65031583] 30.13827714229737\n",
      "3000 [54.2768214   5.8145063   0.81311838  5.65158068] 30.137639777867406\n",
      "3500 [54.2768214   5.81458208  0.81275253  5.65188265] 30.13748774567818\n",
      "4000 [54.2768214   5.81460017  0.81266519  5.65195474] 30.1374514580754\n",
      "4500 [54.2768214   5.81460449  0.81264434  5.65197195] 30.13744279552161\n",
      "5000 [54.2768214   5.81460552  0.81263936  5.65197606] 30.137440727528855\n",
      "500 [52.22105656  5.36647434  1.7692524   4.91705144] 44.203519733273154\n",
      "1000 [52.22197573  5.46516842  1.49620494  5.10227682] 43.99760450782257\n",
      "1500 [52.22197575  5.47466744  1.45490913  5.13546168] 43.97040714535748\n",
      "2000 [52.22197575  5.47603366  1.4484158   5.14080104] 43.966197149367744\n",
      "2500 [52.22197575  5.47624683  1.44738898  5.14164812] 43.965533044012496\n",
      "3000 [52.22197575  5.47628051  1.44722647  5.14178224] 43.965427981221424\n",
      "3500 [52.22197575  5.47628583  1.44720075  5.14180348] 43.96541135276868\n",
      "4000 [52.22197575  5.47628668  1.44719668  5.14180684] 43.9654087207814\n",
      "4500 [52.22197575  5.47628681  1.44719603  5.14180737] 43.96540830418054\n",
      "5000 [52.22197575  5.47628683  1.44719593  5.14180745] 43.965408238239256\n"
     ]
    }
   ],
   "source": [
    "w_s = []\n",
    "lmb = 1e-5\n",
    "for i in range(15):\n",
    "    w_s.append(eval_model_reg2(X_st, y, iterations=5000, alpha=1e-2, lambda_=lmb))\n",
    "    lmb *=2\n",
    "w_s = np.array(w_s)  "
   ]
  },
  {
   "cell_type": "code",
   "execution_count": 26,
   "metadata": {},
   "outputs": [],
   "source": [
    "import pylab\n",
    "plt.rcParams['figure.figsize'] = (15, 7)"
   ]
  },
  {
   "cell_type": "code",
   "execution_count": 27,
   "metadata": {},
   "outputs": [
    {
     "data": {
      "text/plain": [
       "Text(0.5, 1.0, 'MSE')"
      ]
     },
     "execution_count": 27,
     "metadata": {},
     "output_type": "execute_result"
    },
    {
     "data": {
      "image/png": "[encoded data removed]",
      "text/plain": [
       "<Figure size 1080x504 with 5 Axes>"
      ]
     },
     "metadata": {
      "needs_background": "light"
     },
     "output_type": "display_data"
    }
   ],
   "source": [
    "fig = plt.figure() \n",
    "ax1 = fig.add_subplot(231) \n",
    "ax2 = fig.add_subplot(232) \n",
    "ax3 = fig.add_subplot(233) \n",
    "ax4 = fig.add_subplot(234)\n",
    "ax5 = fig.add_subplot(235)\n",
    "\n",
    "ax1.plot(w_s[:, 0])\n",
    "ax1.set_xlabel('1e-5*2^n', fontsize = 9)\n",
    "ax1.xaxis.set_label_coords(1.08, -0.025)\n",
    "ax1.set_title('W0')\n",
    "\n",
    "ax2.plot(w_s[:, 1])\n",
    "ax2.set_xlabel('1e-5*2^n', fontsize = 9)\n",
    "ax2.xaxis.set_label_coords(1.08, -0.025)\n",
    "ax2.set_title('W1')\n",
    "\n",
    "ax3.plot(w_s[:, 2])\n",
    "ax3.set_xlabel('1e-5*2^n', fontsize = 9)\n",
    "ax3.xaxis.set_label_coords(1.08, -0.025)\n",
    "ax3.set_title('W2')\n",
    "\n",
    "ax4.plot(w_s[:, 3])\n",
    "ax4.set_xlabel('1e-5*2^n', fontsize = 9)\n",
    "ax4.xaxis.set_label_coords(1.08, -0.025)\n",
    "ax4.set_title('W3')\n",
    "\n",
    "ax5.plot(w_s[:, 4])\n",
    "ax5.set_xlabel('1e-5*2^n', fontsize = 9)\n",
    "ax5.xaxis.set_label_coords(1.08, -0.025)\n",
    "ax5.set_title('MSE')"
   ]
  },
  {
   "cell_type": "markdown",
   "metadata": {},
   "source": [
    "## 2. Можно ли к одному и тому же признаку применить сразу и нормализацию, и стандартизацию?"
   ]
  },
  {
   "cell_type": "markdown",
   "metadata": {},
   "source": [
    "теоретически можно, но будет то же самое, что и просто стандартизация. $std(\\frac{x}{d})=\\frac{std(x)}{d}, E(\\frac{x}{d})=\\frac{E(x)}{d}$"
   ]
  },
  {
   "cell_type": "markdown",
   "metadata": {},
   "source": [
    "## 3*. Напишите функцию наподобие eval_model_reg2, но для применения L1-регуляризации."
   ]
  },
  {
   "cell_type": "code",
   "execution_count": 28,
   "metadata": {},
   "outputs": [],
   "source": [
    "def calc_mae(y, y_pred):\n",
    "    err = np.mean(np.abs(y - y_pred))\n",
    "    return err"
   ]
  },
  {
   "cell_type": "code",
   "execution_count": 29,
   "metadata": {},
   "outputs": [],
   "source": [
    "def eval_model_reg1(X, y, iterations, alpha=1e-4, lambda_=1e-8):\n",
    "    np.random.seed(42)\n",
    "    W = np.random.randn(X.shape[0])\n",
    "    n = X.shape[1]\n",
    "    for i in range(1, iterations+1):\n",
    "        y_pred = np.dot(W, X)\n",
    "        err = calc_mae(y, y_pred)\n",
    "        err_mse = calc_mse(y, y_pred)\n",
    "        W -= alpha * (1/n * 2 * np.dot((y_pred - y), X.T) + lambda_ * np.sign(W)) # производная от модуля - sign\n",
    "        if i % (iterations / 10) == 0:\n",
    "            print(i, W, err, err_mse)\n",
    "    return W"
   ]
  },
  {
   "cell_type": "code",
   "execution_count": 32,
   "metadata": {},
   "outputs": [],
   "source": [
    "np.set_printoptions(precision=5)"
   ]
  },
  {
   "cell_type": "code",
   "execution_count": 35,
   "metadata": {},
   "outputs": [
    {
     "name": "stdout",
     "output_type": "stream",
     "text": [
      "200 [55.02381  4.829    2.22209  4.76673] 4.305377782206056 28.830099334791345\n",
      "400 [55.98283  5.48779  1.2486   5.1349 ] 4.031773688422307 26.015017289669423\n",
      "600 [55.9997   5.74953  0.65694  5.49064] 4.0284641465732385 25.692615815821863\n",
      "800 [55.99999  5.86986  0.28062  5.76087] 4.027471157800191 25.56135763004574\n",
      "1000 [5.60000e+01 5.93350e+00 3.56876e-02 5.95075e+00] 4.026539688986153 25.501840244288598\n",
      "1200 [5.60000e+01 5.92560e+00 1.75708e-02 6.01562e+00] 4.027004309837574 25.47439323853193\n",
      "1400 [5.60000e+01 5.91295e+00 2.99342e-03 6.02727e+00] 4.02705780789824 25.470257836141037\n",
      "1600 [5.60000e+01 5.90877e+00 5.75352e-03 6.03116e+00] 4.027140970057447 25.468021080339884\n",
      "1800 [5.60000e+01 5.90736e+00 7.46793e-03 6.03239e+00] 4.027214932783407 25.466664530572686\n",
      "2000 [5.60000e+01 5.90694e+00 8.91634e-03 6.03284e+00] 4.027302886860296 25.46532699224304\n"
     ]
    },
    {
     "data": {
      "text/plain": [
       "array([5.60000e+01, 5.90694e+00, 8.91634e-03, 6.03284e+00])"
      ]
     },
     "execution_count": 35,
     "metadata": {},
     "output_type": "execute_result"
    }
   ],
   "source": [
    "eval_model_reg1(X_st, y, iterations=2000, alpha=1e-2, lambda_=1) #.round(2)"
   ]
  },
  {
   "cell_type": "code",
   "execution_count": null,
   "metadata": {},
   "outputs": [],
   "source": []
  },
  {
   "cell_type": "code",
   "execution_count": null,
   "metadata": {},
   "outputs": [],
   "source": []
  },
  {
   "cell_type": "code",
   "execution_count": null,
   "metadata": {},
   "outputs": [],
   "source": []
  }
 ],
 "metadata": {
  "colab": {
   "collapsed_sections": [],
   "name": "Lesson2.ipynb",
   "provenance": []
  },
  "kernelspec": {
   "display_name": "Python 3",
   "language": "python",
   "name": "python3"
  },
  "language_info": {
   "codemirror_mode": {
    "name": "ipython",
    "version": 3
   },
   "file_extension": ".py",
   "mimetype": "text/x-python",
   "name": "python",
   "nbconvert_exporter": "python",
   "pygments_lexer": "ipython3",
   "version": "3.7.4"
  }
 },
 "nbformat": 4,
 "nbformat_minor": 1
}
