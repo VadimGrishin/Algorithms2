{
 "cells": [
  {
   "cell_type": "markdown",
   "metadata": {},
   "source": [
    "### Урок 3. Классификация. Логистическая регрессия."
   ]
  },
  {
   "cell_type": "code",
   "execution_count": 1,
   "metadata": {
    "colab": {},
    "colab_type": "code",
    "id": "zhwkeWtb1O0w"
   },
   "outputs": [],
   "source": [
    "import numpy as np\n",
    "import matplotlib.pyplot as plt"
   ]
  },
  {
   "cell_type": "code",
   "execution_count": 2,
   "metadata": {
    "colab": {},
    "colab_type": "code",
    "id": "FeKFn2yb1To4"
   },
   "outputs": [],
   "source": [
    "X = np.array([[1, 1, 1, 1, 1, 1, 1, 1, 1, 1],\n",
    "              [1, 1, 2, 5, 3, 0, 5, 10, 1, 2],\n",
    "              [500, 700, 750, 600, 1450, 800, 1500, 2000, 450, 1000],\n",
    "              [1, 1, 2, 1, 2,  1, 3, 3, 1, 2]], dtype = np.float64)\n",
    "y = np.array([0, 0, 1, 0, 1, 0, 1, 0, 1, 1], dtype = np.float64)"
   ]
  },
  {
   "cell_type": "code",
   "execution_count": 3,
   "metadata": {
    "colab": {
     "base_uri": "https://localhost:8080/",
     "height": 155
    },
    "colab_type": "code",
    "id": "yXSj4nbxHsFd",
    "outputId": "8d102d54-94bf-4acc-d5b8-d60da152b953"
   },
   "outputs": [
    {
     "data": {
      "text/plain": [
       "array([[1.00e+00, 1.00e+00, 1.00e+00, 1.00e+00, 1.00e+00, 1.00e+00,\n",
       "        1.00e+00, 1.00e+00, 1.00e+00, 1.00e+00],\n",
       "       [1.00e+00, 1.00e+00, 2.00e+00, 5.00e+00, 3.00e+00, 0.00e+00,\n",
       "        5.00e+00, 1.00e+01, 1.00e+00, 2.00e+00],\n",
       "       [5.00e+02, 7.00e+02, 7.50e+02, 6.00e+02, 1.45e+03, 8.00e+02,\n",
       "        1.50e+03, 2.00e+03, 4.50e+02, 1.00e+03],\n",
       "       [1.00e+00, 1.00e+00, 2.00e+00, 1.00e+00, 2.00e+00, 1.00e+00,\n",
       "        3.00e+00, 3.00e+00, 1.00e+00, 2.00e+00]])"
      ]
     },
     "execution_count": 3,
     "metadata": {},
     "output_type": "execute_result"
    }
   ],
   "source": [
    "X"
   ]
  },
  {
   "cell_type": "code",
   "execution_count": 4,
   "metadata": {
    "colab": {
     "base_uri": "https://localhost:8080/",
     "height": 34
    },
    "colab_type": "code",
    "id": "QU0A16vZHugZ",
    "outputId": "71d74b95-77f4-41a7-e339-c9e7b2004e4b"
   },
   "outputs": [
    {
     "data": {
      "text/plain": [
       "array([0., 0., 1., 0., 1., 0., 1., 0., 1., 1.])"
      ]
     },
     "execution_count": 4,
     "metadata": {},
     "output_type": "execute_result"
    }
   ],
   "source": [
    "y"
   ]
  },
  {
   "cell_type": "code",
   "execution_count": 5,
   "metadata": {
    "colab": {},
    "colab_type": "code",
    "id": "M-aO1NTxOUfo"
   },
   "outputs": [],
   "source": [
    "def calc_std_feat(x):\n",
    "    res = (x - x.mean()) / x.std()\n",
    "    return res"
   ]
  },
  {
   "cell_type": "code",
   "execution_count": 6,
   "metadata": {
    "colab": {},
    "colab_type": "code",
    "id": "D8EL0iGJOVpe"
   },
   "outputs": [],
   "source": [
    "X_st = X.copy()\n",
    "X_st[2, :] = calc_std_feat(X[2, :])"
   ]
  },
  {
   "cell_type": "code",
   "execution_count": 7,
   "metadata": {
    "colab": {
     "base_uri": "https://localhost:8080/",
     "height": 155
    },
    "colab_type": "code",
    "id": "gviMxz7EOuI3",
    "outputId": "af9a2576-f4d7-41d7-e216-46e0a068cfad"
   },
   "outputs": [
    {
     "data": {
      "text/plain": [
       "array([[ 1.        ,  1.        ,  1.        ,  1.        ,  1.        ,\n",
       "         1.        ,  1.        ,  1.        ,  1.        ,  1.        ],\n",
       "       [ 1.        ,  1.        ,  2.        ,  5.        ,  3.        ,\n",
       "         0.        ,  5.        , 10.        ,  1.        ,  2.        ],\n",
       "       [-0.97958969, -0.56713087, -0.46401617, -0.77336028,  0.97958969,\n",
       "        -0.36090146,  1.08270439,  2.11385144, -1.08270439,  0.05155735],\n",
       "       [ 1.        ,  1.        ,  2.        ,  1.        ,  2.        ,\n",
       "         1.        ,  3.        ,  3.        ,  1.        ,  2.        ]])"
      ]
     },
     "execution_count": 7,
     "metadata": {},
     "output_type": "execute_result"
    }
   ],
   "source": [
    "X_st"
   ]
  },
  {
   "cell_type": "code",
   "execution_count": 8,
   "metadata": {
    "colab": {},
    "colab_type": "code",
    "id": "qMR5pOA38dDw"
   },
   "outputs": [],
   "source": [
    "def calc_logloss(y, y_pred):\n",
    "    err = - np.mean(y * np.log(y_pred) + (1.0 - y) * np.log(1.0 - y_pred))\n",
    "    err = np.sum(err)\n",
    "    return err"
   ]
  },
  {
   "cell_type": "code",
   "execution_count": 9,
   "metadata": {
    "colab": {
     "base_uri": "https://localhost:8080/",
     "height": 34
    },
    "colab_type": "code",
    "id": "R6zfOHMrBvnX",
    "outputId": "46df0625-963f-4401-da30-b5b42bcf1be7"
   },
   "outputs": [
    {
     "data": {
      "text/plain": [
       "0.10536051565782628"
      ]
     },
     "execution_count": 9,
     "metadata": {},
     "output_type": "execute_result"
    }
   ],
   "source": [
    "# Пример применения\n",
    "y1 = np.array([1, 0])\n",
    "y_pred1 = np.array([0.9, 0.1])\n",
    "calc_logloss(y1, y_pred1)"
   ]
  },
  {
   "cell_type": "code",
   "execution_count": 10,
   "metadata": {
    "colab": {},
    "colab_type": "code",
    "id": "EEF9rWPNDnss"
   },
   "outputs": [],
   "source": [
    "def sigmoid(z):\n",
    "    res = 1 / (1 + np.exp(-z))\n",
    "    return res"
   ]
  },
  {
   "cell_type": "code",
   "execution_count": 11,
   "metadata": {
    "colab": {},
    "colab_type": "code",
    "id": "_9tN8lBEEeXU"
   },
   "outputs": [],
   "source": [
    "z = np.linspace(-10, 10, 101)"
   ]
  },
  {
   "cell_type": "code",
   "execution_count": 12,
   "metadata": {
    "colab": {},
    "colab_type": "code",
    "id": "nvIe3RpbEp4l"
   },
   "outputs": [],
   "source": [
    "probabilities = sigmoid(z)"
   ]
  },
  {
   "cell_type": "code",
   "execution_count": 13,
   "metadata": {
    "colab": {
     "base_uri": "https://localhost:8080/",
     "height": 283
    },
    "colab_type": "code",
    "id": "jQsCfht0Et1V",
    "outputId": "0c11fcdd-1cf9-49db-aaa7-4fa520ff840a"
   },
   "outputs": [
    {
     "data": {
      "image/png": "[encoded data removed]",
      "text/plain": [
       "<Figure size 432x288 with 1 Axes>"
      ]
     },
     "metadata": {
      "needs_background": "light"
     },
     "output_type": "display_data"
    }
   ],
   "source": [
    "plt.plot(z, probabilities)\n",
    "plt.show()"
   ]
  },
  {
   "cell_type": "markdown",
   "metadata": {
    "colab": {},
    "colab_type": "code",
    "id": "e6TH-mkPItb6"
   },
   "source": [
    "Logistic Regression"
   ]
  },
  {
   "cell_type": "code",
   "execution_count": 14,
   "metadata": {
    "colab": {},
    "colab_type": "code",
    "id": "qtgUN3LW-UIq"
   },
   "outputs": [],
   "source": [
    "def eval_model(X, y, iterations, alpha=1e-4):\n",
    "    np.random.seed(70)\n",
    "    W = np.random.randn(X.shape[0])\n",
    "    n = X.shape[1]\n",
    "    for i in range(1, iterations+2):\n",
    "        z = np.dot(W, X)\n",
    "        \n",
    "        y_pred = sigmoid(z)\n",
    "        err = calc_logloss(y, y_pred)\n",
    "        \n",
    "        grad = alpha * (1/n * np.dot((y_pred - y), X.T))\n",
    "        \n",
    "        if i % (iterations / 10) == 1:\n",
    "            print(i, W, err)\n",
    "        \n",
    "        W -= grad\n",
    "            \n",
    "    return W"
   ]
  },
  {
   "cell_type": "code",
   "execution_count": 15,
   "metadata": {
    "colab": {
     "base_uri": "https://localhost:8080/",
     "height": 190
    },
    "colab_type": "code",
    "id": "oqX7loklBmYZ",
    "outputId": "f4849295-1f14-40d8-c8f2-d1b002e130c5"
   },
   "outputs": [
    {
     "name": "stdout",
     "output_type": "stream",
     "text": [
      "1 [ 0.85099741  0.17775492 -0.85303971 -0.44389968] 0.9697836386909907\n",
      "501 [ 0.84461371  0.16338614 -0.8415948  -0.44079457] 0.9620170898870658\n",
      "1001 [ 0.83862305  0.15101492 -0.82991284 -0.43684485] 0.9551909479965888\n",
      "1501 [ 0.83295271  0.14022955 -0.81806367 -0.43222598] 0.9489828376187832\n",
      "2001 [ 0.82754548  0.13071091 -0.80610033 -0.42707472] 0.9431903991496398\n",
      "2501 [ 0.82235612  0.12221013 -0.79406339 -0.42149834] 0.9376852832117729\n",
      "3001 [ 0.81734859  0.11453164 -0.78198414 -0.41558162] 0.9323852519113134\n",
      "3501 [ 0.81249403  0.10752073 -0.76988695 -0.40939199] 0.9272371230210086\n",
      "4001 [ 0.80776921  0.10105416 -0.75779094 -0.40298345] 0.9222062226387132\n",
      "4501 [ 0.80315533  0.09503327 -0.74571123 -0.39639946] 0.9172697821128761\n",
      "5001 [ 0.79863711  0.08937862 -0.73365982 -0.38967514] 0.9124127552276562\n"
     ]
    }
   ],
   "source": [
    "W = eval_model(X_st, y, iterations=5000, alpha=1e-4)"
   ]
  },
  {
   "cell_type": "markdown",
   "metadata": {
    "colab": {},
    "colab_type": "code",
    "collapsed": true,
    "id": "jp0AQlnkRBWC"
   },
   "source": [
    "## ДЗ"
   ]
  },
  {
   "cell_type": "markdown",
   "metadata": {},
   "source": [
    "### 1*. Измените функцию calc_logloss так, чтобы нули по возможности не попадали в np.log."
   ]
  },
  {
   "cell_type": "code",
   "execution_count": 16,
   "metadata": {},
   "outputs": [],
   "source": [
    "def calc_logloss1(y, y_pred):\n",
    "\n",
    "    y_pred = np.where(y_pred *(1 - y_pred) == 0, np.abs(y_pred - 10e-9), y_pred)\n",
    "\n",
    "    err = - np.mean(y * np.log(y_pred) + (1.0 - y) * np.log(1.0 - y_pred))\n",
    "    err = np.sum(err)\n",
    "    return err"
   ]
  },
  {
   "cell_type": "code",
   "execution_count": 17,
   "metadata": {},
   "outputs": [
    {
     "data": {
      "text/plain": [
       "(1.0000000100247594e-08, 18.420680741439988)"
      ]
     },
     "execution_count": 17,
     "metadata": {},
     "output_type": "execute_result"
    }
   ],
   "source": [
    "# Пример применения\n",
    "y1 = np.array([1, 0])\n",
    "y_pred1 = np.array([1, 0])\n",
    "y_pred2 = np.array([0, 1])\n",
    "calc_logloss1(y1, y_pred1), calc_logloss1(y1, y_pred2)"
   ]
  },
  {
   "cell_type": "markdown",
   "metadata": {},
   "source": [
    "### 2. Подберите аргументы функции eval_model для логистической регрессии таким образом, чтобы log loss был минимальным."
   ]
  },
  {
   "cell_type": "code",
   "execution_count": 18,
   "metadata": {},
   "outputs": [],
   "source": [
    "# в eval_model  использую мой calc_logloss1, чтобы избежать ошибок с y_pred~~0:\n",
    "def eval_model(X, y, iterations, alpha=1e-4):\n",
    "    np.random.seed(70)\n",
    "    W = np.random.randn(X.shape[0])\n",
    "    n = X.shape[1]\n",
    "    for i in range(1, iterations+2):\n",
    "        z = np.dot(W, X)\n",
    "        \n",
    "        y_pred = sigmoid(z)\n",
    "        err = calc_logloss1(y, y_pred)\n",
    "        \n",
    "        grad = alpha * (1/n * np.dot((y_pred - y), X.T))\n",
    "        \n",
    "        if i % (iterations / 10) < 7:\n",
    "            print(i, W, err)\n",
    "            print('---grad:', grad.round(2))\n",
    "            print('---prob', y_pred.round(2))\n",
    "        \n",
    "        W -= grad\n",
    "            \n",
    "    return W"
   ]
  },
  {
   "cell_type": "code",
   "execution_count": 19,
   "metadata": {
    "scrolled": false
   },
   "outputs": [
    {
     "name": "stdout",
     "output_type": "stream",
     "text": [
      "1 [ 0.85099741  0.17775492 -0.85303971 -0.44389968] 0.9697836386909907\n",
      "---grad: [ 528.7  1242.48 -903.85 -209.07]\n",
      "---prob [0.81 0.74 0.67 0.88 0.42 0.67 0.37 0.38 0.82 0.57]\n",
      "2 [ -527.84877958 -1242.2999491    902.99869509   208.62926631] 9.210340375976184\n",
      "---grad: [-2000.   -5200.    -226.85 -4000.  ]\n",
      "---prob [0. 0. 0. 0. 0. 0. 0. 0. 0. 0.]\n",
      "3 [1472.15122042 3957.7000509  1129.85104421 4208.62926631] 9.210340374463803\n",
      "---grad: [2000.   6800.   -226.85 2800.  ]\n",
      "---prob [1. 1. 1. 1. 1. 1. 1. 1. 1. 1.]\n",
      "4 [ -527.84877958 -2842.2999491   1356.70339334  1408.62926631] 11.052408449868945\n",
      "---grad: [-1600.   -5200.    -371.21 -3600.  ]\n",
      "---prob [0. 0. 0. 0. 0. 1. 0. 0. 0. 0.]\n",
      "5 [1072.15122042 2357.7000509  1727.91632827 5008.62926631] 9.210340374463803\n",
      "---grad: [2000.   6800.   -226.85 2800.  ]\n",
      "---prob [1. 1. 1. 1. 1. 1. 1. 1. 1. 1.]\n",
      "6 [ -927.84877958 -4442.2999491   1954.7686774   2208.62926631] 11.052408449868945\n",
      "---grad: [-1600.   -5200.    -371.21 -3600.  ]\n",
      "---prob [0. 0. 0. 0. 0. 1. 0. 0. 0. 0.]\n",
      "32 [-4527.84877958 -6842.2999491   2676.57160644  7408.62926631] 11.052408449868945\n",
      "---grad: [-1600.   -5200.    -371.21 -3600.  ]\n",
      "---prob [0. 0. 0. 0. 0. 1. 0. 0. 0. 0.]\n",
      "33 [-2927.84877958 -1642.2999491   3047.78454137 11008.62926631] 7.368272301571042\n",
      "---grad: [1600.   4800.     82.49 2400.  ]\n",
      "---prob [1. 1. 1. 0. 1. 1. 1. 1. 1. 1.]\n",
      "34 [-4527.84877958 -6442.2999491   2965.29277805  8608.62926631] 13.441090513951451\n",
      "---grad: [-1600.   -5200.    -371.21 -3600.  ]\n",
      "---prob [0. 0. 0. 0. 0. 1. 0. 0. 0. 0.]\n",
      "35 [-2927.84877958 -1242.2999491   3336.50571299 12208.62926631] 9.210340374463803\n",
      "---grad: [2000.   6800.   -226.85 2800.  ]\n",
      "---prob [1. 1. 1. 1. 1. 1. 1. 1. 1. 1.]\n",
      "36 [-4927.84877958 -8042.2999491   3563.35806211  9408.62926631] 11.052408449868945\n",
      "---grad: [-1600.   -5200.    -371.21 -3600.  ]\n",
      "---prob [0. 0. 0. 0. 0. 1. 0. 0. 0. 0.]\n",
      "37 [-3327.84877958 -2842.2999491   3934.57099705 13008.62926631] 7.368272301571042\n",
      "---grad: [1600.   4800.     82.49 2400.  ]\n",
      "---prob [1. 1. 1. 0. 1. 1. 1. 1. 1. 1.]\n",
      "38 [-4927.84877958 -7642.2999491   3852.07923373 10608.62926631] 9.210340376473708\n",
      "---grad: [-1200.   -4400.    -350.59 -2800.  ]\n",
      "---prob [0. 0. 0. 0. 0. 1. 0. 0. 0. 1.]\n",
      "63 [-7327.83853685 -4042.28970636  3439.61460817 15808.63950904] 7.368272301571042\n",
      "---grad: [1600.   4800.     82.49 2400.  ]\n",
      "---prob [1. 1. 1. 0. 1. 1. 1. 1. 1. 1.]\n",
      "64 [-8927.83853685 -8842.28970636  3357.12284485 13408.63950904] 9.210340376473708\n",
      "---grad: [-1200.   -4400.    -350.59 -2800.  ]\n",
      "---prob [0. 0. 0. 0. 0. 1. 0. 0. 0. 1.]\n",
      "65 [-7727.83853685 -4442.28970636  3707.71283895 16208.63950904] 7.3682723005742785\n",
      "---grad: [1600.   4800.     82.49 2400.  ]\n",
      "---prob [1. 1. 1. 0. 1. 1. 1. 1. 1. 1.]\n",
      "66 [-9327.83853683 -9242.28970635  3625.22107562 13808.63950906] 10.033580176798178\n",
      "---grad: [-1599.89 -5199.79  -371.21 -3599.79]\n",
      "---prob [0. 0. 0. 0. 0. 1. 0. 0. 0. 0.]\n",
      "67 [-7727.94489601 -4042.5024247   3996.42852696 17408.42679071] 7.368272301571042\n",
      "---grad: [1600.   4800.     82.49 2400.  ]\n",
      "---prob [1. 1. 1. 0. 1. 1. 1. 1. 1. 1.]\n",
      "68 [-9327.94489601 -8842.5024247   3913.93676364 15008.42679071] 7.368272303078472\n",
      "---grad: [ -800.  -3600.   -536.2 -2000. ]\n",
      "---prob [0. 0. 1. 0. 0. 1. 0. 0. 0. 1.]\n",
      "69 [-8527.94489601 -5242.5024247   4450.13322521 17008.42679071] 5.526204228180759\n",
      "---grad: [400.     0.    61.87 400.  ]\n",
      "---prob [0. 1. 1. 0. 1. 1. 1. 0. 0. 1.]\n",
      "95 [-11727.94489601  -4442.5024247    1026.72504748  17008.42679071] 31.050161142970257\n",
      "---grad: [400.     0.    61.87 400.  ]\n",
      "---prob [0. 1. 1. 0. 1. 1. 1. 0. 0. 1.]\n",
      "96 [-12127.94489601  -4442.5024247     964.856225    16608.42679071] 3.684136155287998\n",
      "---grad: [   0.   -400.    288.72    0.  ]\n",
      "---prob [0. 0. 1. 0. 1. 1. 1. 0. 0. 1.]\n",
      "97 [-12127.94489601  -4042.5024247     676.13505338  16608.42679071] 33.09162844759551\n",
      "---grad: [400.     0.    61.87 400.  ]\n",
      "---prob [0. 1. 1. 0. 1. 1. 1. 0. 0. 1.]\n",
      "98 [-12527.94489601  -4042.5024247     614.26623089  16208.42679071] 3.6841361562879973\n",
      "---grad: [   0.   -400.    288.72    0.  ]\n",
      "---prob [0. 0. 1. 0. 1. 1. 1. 0. 0. 1.]\n",
      "99 [-12527.94489601  -3642.5024247     325.54505928  16208.42679071] 35.13309575122077\n",
      "---grad: [ 400.   3600.   1134.26 1200.  ]\n",
      "---prob [0. 0. 1. 0. 1. 1. 1. 1. 0. 1.]\n",
      "100 [-12927.94489601  -7242.5024247    -808.71668635  15008.42679071] 7.368272303078472\n",
      "---grad: [ -800.  -3600.   -536.2 -2000. ]\n",
      "---prob [0. 0. 1. 0. 0. 1. 0. 0. 0. 1.]\n",
      "101 [-12127.94489601  -3642.5024247    -272.52022478  17008.42679071] 7.368272301571042\n",
      "---grad: [1600.   4800.     82.49 2400.  ]\n",
      "---prob [1. 1. 1. 0. 1. 1. 1. 1. 1. 1.]\n",
      "126 [-16527.94489609  -8442.50242478  -1448.027852    16208.42679063] 41.62912321475061\n",
      "---grad: [-1600.   -5200.    -371.21 -3600.  ]\n",
      "---prob [0. 0. 0. 0. 0. 1. 0. 0. 0. 0.]\n",
      "127 [-14927.94489609  -3242.50242478  -1076.81491706  19808.42679063] 7.368272301571042\n",
      "---grad: [1600.   4800.     82.49 2400.  ]\n",
      "---prob [1. 1. 1. 0. 1. 1. 1. 1. 1. 1.]\n",
      "128 [-16527.94489609  -8042.50242478  -1159.30668038  17408.42679063] 7.368272303078472\n",
      "---grad: [ -800.  -3600.   -536.2 -2000. ]\n",
      "---prob [0. 0. 1. 0. 0. 1. 0. 0. 0. 1.]\n",
      "129 [-15727.94489609  -4442.50242478   -623.11021881  19408.42679063] 10.579703946793506\n",
      "---grad: [   0.   -400.    288.72    0.  ]\n",
      "---prob [0. 0. 1. 0. 1. 1. 1. 0. 0. 1.]\n",
      "130 [-15727.94489609  -4042.50242478   -911.83139042  19408.42679063] 7.368272301571042\n",
      "---grad: [1600.   4800.     82.49 2400.  ]\n",
      "---prob [1. 1. 1. 0. 1. 1. 1. 1. 1. 1.]\n",
      "131 [-17327.94489609  -8842.50242478   -994.32315374  17008.42679063] 62.68175479369832\n",
      "---grad: [-1600.   -5200.    -371.21 -3600.  ]\n",
      "---prob [0. 0. 0. 0. 0. 1. 0. 0. 0. 0.]\n",
      "132 [-15727.94489609  -3642.50242478   -623.11021881  20608.42679063] 7.368272301571042\n",
      "---grad: [1600.   4800.     82.49 2400.  ]\n",
      "---prob [1. 1. 1. 0. 1. 1. 1. 1. 1. 1.]\n",
      "158 [-19727.94489676  -8042.50242478  -2767.89606485  18608.42678996] 5.52620422918571\n",
      "---grad: [-1200.   -3600.    -391.84 -2400.  ]\n",
      "---prob [0. 0. 1. 0. 0. 0. 0. 0. 0. 1.]\n",
      "159 [-18527.94489676  -4442.50242478  -2376.06018909  21008.42678996] 3.6841361547855223\n",
      "---grad: [ 800.   400.  -536.2  800. ]\n",
      "---prob [1. 0. 1. 0. 1. 1. 1. 0. 1. 1.]\n",
      "160 [-19327.94489676  -4842.50242478  -1839.86372752  20208.42678996] 3.6841361562879973\n",
      "---grad: [   0.   -400.    288.72    0.  ]\n",
      "---prob [0. 0. 1. 0. 1. 1. 1. 0. 0. 1.]\n",
      "161 [-19327.94489676  -4442.50242478  -2128.58489913  20208.42678996] 3.6841361562879973\n",
      "---grad: [   0.   -400.    288.72    0.  ]\n",
      "---prob [0. 0. 1. 0. 1. 1. 1. 0. 0. 1.]\n",
      "162 [-19327.94489676  -4042.50242478  -2417.30607075  20208.42678996] 56.32133090310974\n",
      "---grad: [   0.   -400.    288.72    0.  ]\n",
      "---prob [0. 0. 1. 0. 1. 1. 1. 0. 0. 1.]\n",
      "163 [-19327.94489676  -3642.50242478  -2706.02724236  20208.42678996] 1.842068081892761\n",
      "---grad: [ 400.      0.   -144.36  400.  ]\n",
      "---prob [0. 0. 1. 0. 1. 1. 1. 0. 1. 1.]\n",
      "164 [-19727.94489676  -3642.50242478  -2561.66665656  19808.42678996] 3.6841361562879973\n",
      "---grad: [   0.   -400.    288.72    0.  ]\n",
      "---prob [0. 0. 1. 0. 1. 1. 1. 0. 0. 1.]\n",
      "189 [-22537.97306839  -7662.55876797  -4232.64188966  18988.37044677] 15.983556118472368\n",
      "---grad: [-1600.   -4400.    -412.46 -3200.  ]\n",
      "---prob [0. 0. 1. 0. 0. 0. 0. 0. 0. 0.]\n",
      "190 [-20937.97306839  -3262.55876797  -3820.18307306  22188.37044677] 7.368272301571042\n",
      "---grad: [1600.   4800.     82.49 2400.  ]\n",
      "---prob [1. 1. 1. 0. 1. 1. 1. 1. 1. 1.]\n",
      "191 [-22537.97306839  -8062.55876797  -3902.67483638  19788.37044677] 5.52620423018571\n",
      "---grad: [-1200.   -3600.    -391.84 -2400.  ]\n",
      "---prob [0. 0. 1. 0. 0. 0. 0. 0. 0. 1.]\n",
      "192 [-21337.97306839  -4462.55876797  -3510.83896062  22188.37044677] 1.842068081892761\n",
      "---grad: [ 400.      0.   -144.36  400.  ]\n",
      "---prob [0. 0. 1. 0. 1. 1. 1. 0. 1. 1.]\n",
      "193 [-21737.97306839  -4462.55876797  -3366.47837481  21788.37044677] 3.6841361562879973\n",
      "---grad: [   0.   -400.    288.72    0.  ]\n",
      "---prob [0. 0. 1. 0. 1. 1. 1. 0. 0. 1.]\n",
      "194 [-21737.97306839  -4062.55876797  -3655.19954643  21788.37044677] 7.308146215172938\n",
      "---grad: [   0.   -400.    288.72    0.  ]\n",
      "---prob [0. 0. 1. 0. 1. 1. 1. 0. 0. 1.]\n",
      "195 [-21737.97306839  -3662.55876797  -3943.92071804  21788.37044677] 3.6841361557855223\n",
      "---grad: [ 800.   400.  -536.2  800. ]\n",
      "---prob [1. 0. 1. 0. 1. 1. 1. 0. 1. 1.]\n",
      "221 [-24178.19059285  -4064.73401256  -4565.13105141  21267.71787339] 1.8420680833952368\n",
      "---grad: [-400.   -400.    433.08 -400.  ]\n",
      "---prob [0. 0. 1. 0. 1. 0. 1. 0. 0. 1.]\n",
      "222 [-23778.19059285  -3664.73401256  -4998.21280883  21667.71787339] 36.36197640467844\n",
      "---grad: [-400.   -400.    433.08 -400.  ]\n",
      "---prob [0. 0. 1. 0. 1. 0. 1. 0. 0. 1.]\n",
      "223 [-23378.19059285  -3264.73401256  -5431.29456625  22067.71787339] 3.6841361557855223\n",
      "---grad: [ 800.   400.  -536.2  800. ]\n",
      "---prob [1. 0. 1. 0. 1. 1. 1. 0. 1. 1.]\n",
      "224 [-24178.19059285  -3664.73401256  -4895.09810468  21267.71787339] 1.8420680833952368\n",
      "---grad: [-400.   -400.    433.08 -400.  ]\n",
      "---prob [0. 0. 1. 0. 1. 0. 1. 0. 0. 1.]\n",
      "225 [-23778.19059285  -3264.73401256  -5328.1798621   21667.71787339] 8.000000080198074e-09\n",
      "---grad: [ 0.  0. -0.  0.]\n",
      "---prob [0. 0. 1. 0. 1. 0. 1. 0. 1. 1.]\n",
      "226 [-23778.19059285  -3264.73401256  -5328.1798621   21667.71787339] 8.000000080198074e-09\n",
      "---grad: [ 0.  0. -0.  0.]\n",
      "---prob [0. 0. 1. 0. 1. 0. 1. 0. 1. 1.]\n",
      "227 [-23778.19059285  -3264.73401256  -5328.1798621   21667.71787339] 8.000000080198074e-09\n",
      "---grad: [ 0.  0. -0.  0.]\n",
      "---prob [0. 0. 1. 0. 1. 0. 1. 0. 1. 1.]\n",
      "252 [-23778.19059285  -3264.73401256  -5328.1798621   21667.71787339] 8.000000080198074e-09\n",
      "---grad: [ 0.  0. -0.  0.]\n",
      "---prob [0. 0. 1. 0. 1. 0. 1. 0. 1. 1.]\n",
      "253 [-23778.19059285  -3264.73401256  -5328.1798621   21667.71787339] 8.000000080198074e-09\n",
      "---grad: [ 0.  0. -0.  0.]\n",
      "---prob [0. 0. 1. 0. 1. 0. 1. 0. 1. 1.]\n",
      "254 [-23778.19059285  -3264.73401256  -5328.1798621   21667.71787339] 8.000000080198074e-09\n",
      "---grad: [ 0.  0. -0.  0.]\n",
      "---prob [0. 0. 1. 0. 1. 0. 1. 0. 1. 1.]\n",
      "255 [-23778.19059285  -3264.73401256  -5328.1798621   21667.71787339] 8.000000080198074e-09\n",
      "---grad: [ 0.  0. -0.  0.]\n",
      "---prob [0. 0. 1. 0. 1. 0. 1. 0. 1. 1.]\n",
      "256 [-23778.19059285  -3264.73401256  -5328.1798621   21667.71787339] 8.000000080198074e-09\n",
      "---grad: [ 0.  0. -0.  0.]\n",
      "---prob [0. 0. 1. 0. 1. 0. 1. 0. 1. 1.]\n",
      "257 [-23778.19059285  -3264.73401256  -5328.1798621   21667.71787339] 8.000000080198074e-09\n",
      "---grad: [ 0.  0. -0.  0.]\n",
      "---prob [0. 0. 1. 0. 1. 0. 1. 0. 1. 1.]\n",
      "258 [-23778.19059285  -3264.73401256  -5328.1798621   21667.71787339] 8.000000080198074e-09\n",
      "---grad: [ 0.  0. -0.  0.]\n",
      "---prob [0. 0. 1. 0. 1. 0. 1. 0. 1. 1.]\n",
      "284 [-23778.19059285  -3264.73401256  -5328.1798621   21667.71787339] 8.000000080198074e-09\n",
      "---grad: [ 0.  0. -0.  0.]\n",
      "---prob [0. 0. 1. 0. 1. 0. 1. 0. 1. 1.]\n",
      "285 [-23778.19059285  -3264.73401256  -5328.1798621   21667.71787339] 8.000000080198074e-09\n",
      "---grad: [ 0.  0. -0.  0.]\n",
      "---prob [0. 0. 1. 0. 1. 0. 1. 0. 1. 1.]\n",
      "286 [-23778.19059285  -3264.73401256  -5328.1798621   21667.71787339] 8.000000080198074e-09\n",
      "---grad: [ 0.  0. -0.  0.]\n",
      "---prob [0. 0. 1. 0. 1. 0. 1. 0. 1. 1.]\n",
      "287 [-23778.19059285  -3264.73401256  -5328.1798621   21667.71787339] 8.000000080198074e-09\n",
      "---grad: [ 0.  0. -0.  0.]\n",
      "---prob [0. 0. 1. 0. 1. 0. 1. 0. 1. 1.]\n",
      "288 [-23778.19059285  -3264.73401256  -5328.1798621   21667.71787339] 8.000000080198074e-09\n",
      "---grad: [ 0.  0. -0.  0.]\n",
      "---prob [0. 0. 1. 0. 1. 0. 1. 0. 1. 1.]\n",
      "289 [-23778.19059285  -3264.73401256  -5328.1798621   21667.71787339] 8.000000080198074e-09\n",
      "---grad: [ 0.  0. -0.  0.]\n",
      "---prob [0. 0. 1. 0. 1. 0. 1. 0. 1. 1.]\n",
      "290 [-23778.19059285  -3264.73401256  -5328.1798621   21667.71787339] 8.000000080198074e-09\n",
      "---grad: [ 0.  0. -0.  0.]\n",
      "---prob [0. 0. 1. 0. 1. 0. 1. 0. 1. 1.]\n",
      "315 [-23778.19059285  -3264.73401256  -5328.1798621   21667.71787339] 8.000000080198074e-09\n",
      "---grad: [ 0.  0. -0.  0.]\n",
      "---prob [0. 0. 1. 0. 1. 0. 1. 0. 1. 1.]\n",
      "316 [-23778.19059285  -3264.73401256  -5328.1798621   21667.71787339] 8.000000080198074e-09\n",
      "---grad: [ 0.  0. -0.  0.]\n",
      "---prob [0. 0. 1. 0. 1. 0. 1. 0. 1. 1.]\n"
     ]
    }
   ],
   "source": [
    "W = eval_model(X_st, y, iterations=315, alpha=4000) \n",
    "\n",
    "# получился какой-то очень хаотичный спуск, но супер быстро.  \n",
    "# Градиент поначалу скачет, потом резко становится близким к 0 вместе с logloss и там стабилизируется.см. ниже после 221 шага!\n",
    "# Не знаю, насколько это корректно. Похоже не на итерации, на рандомный поиск )). \n",
    "# Не уверен, что процедура сходится статистически значимо. \n",
    "# Вроде у Энга было, что логлосс не является глобально выпуклой и имеет серию локальных минимумов, возможно \n",
    "# эти скачки позволяют в глобальный минимум запрыгнуть...\n",
    "\n",
    "# Скорость зависит от рандомной инициализации:\n",
    "# random.seed = 45: 256 [-23823.28578812  -3085.67164194  -5956.43811516  20851.52257769] 9.000000090222834e-09\n",
    "# random.seed = 47: 256 [-23909.77399145  -3231.55429043  -5388.57478411  21812.77384799] 8.000000080198074e-09\n",
    "# random.seed = 40: 511 [-24151.22320108  -3467.84817277  -5435.51514846  22175.95418217] 1.3409539231617882e-07"
   ]
  },
  {
   "cell_type": "markdown",
   "metadata": {},
   "source": [
    "### 3. Создайте функцию calc_pred_proba, возвращающую предсказанную вероятность класса 1 (на вход подаются W, который уже посчитан функцией eval_model и X, на выходе - массив y_pred_proba)."
   ]
  },
  {
   "cell_type": "code",
   "execution_count": 20,
   "metadata": {},
   "outputs": [],
   "source": [
    "def calc_pred_proba(X, W):\n",
    "    return sigmoid(W @ X)"
   ]
  },
  {
   "cell_type": "code",
   "execution_count": 21,
   "metadata": {},
   "outputs": [
    {
     "data": {
      "text/plain": [
       "array([2.22356227e-68, 0.00000000e+00, 1.00000000e+00, 0.00000000e+00,\n",
       "       1.00000000e+00, 3.62253343e-82, 1.00000000e+00, 0.00000000e+00,\n",
       "       1.00000000e+00, 1.00000000e+00])"
      ]
     },
     "execution_count": 21,
     "metadata": {},
     "output_type": "execute_result"
    }
   ],
   "source": [
    "calc_pred_proba(X_st, W)"
   ]
  },
  {
   "cell_type": "markdown",
   "metadata": {},
   "source": [
    "### 4. Создайте функцию calc_pred, возвращающую предсказанный класс (на вход подаются W, который уже посчитан функцией eval_model и X, на выходе - массив y_pred)."
   ]
  },
  {
   "cell_type": "code",
   "execution_count": 22,
   "metadata": {},
   "outputs": [],
   "source": [
    "def calc_pred(X, W):\n",
    "    return (sigmoid(W @ X) > 0.5).astype('int')"
   ]
  },
  {
   "cell_type": "code",
   "execution_count": 23,
   "metadata": {},
   "outputs": [
    {
     "data": {
      "text/plain": [
       "array([0, 0, 1, 0, 1, 0, 1, 0, 1, 1])"
      ]
     },
     "execution_count": 23,
     "metadata": {},
     "output_type": "execute_result"
    }
   ],
   "source": [
    "calc_pred(X_st, W)"
   ]
  },
  {
   "cell_type": "markdown",
   "metadata": {},
   "source": [
    "### 5. Посчитайте Accuracy, матрицу ошибок, точность и полноту, а также F1 score."
   ]
  },
  {
   "cell_type": "code",
   "execution_count": 24,
   "metadata": {},
   "outputs": [],
   "source": [
    "def my_metrics():\n",
    "    TP = ( (calc_pred(X_st, W) == 1) & (y == 1)).astype('int').sum()\n",
    "    FP = ( (calc_pred(X_st, W) == 1) & (y == 0)).astype('int').sum()\n",
    "    TN = ( (calc_pred(X_st, W) == 0) & (y == 0)).astype('int').sum()\n",
    "    FN = ( (calc_pred(X_st, W) == 0) & (y == 1)).astype('int').sum() \n",
    "    \n",
    "    accuracy = ((calc_pred(X_st, W) == y).astype('int')).mean()\n",
    "    confus_matr = [[TP, FP],\n",
    "                  [TN, FN]]\n",
    "    \n",
    "    precision = TP / (TP + FP)\n",
    "    recall = TP / (TP + FN)\n",
    "    \n",
    "    F1 = 2 * precision * recall / (precision + recall)\n",
    "    \n",
    "    print(f'accuracy  {accuracy}')\n",
    "    print(f'confusion matrix {confus_matr}')\n",
    "    print(f'precision {precision}')\n",
    "    print(f'recall {recall}')\n",
    "    print(f'F1 {F1}')\n",
    "    "
   ]
  },
  {
   "cell_type": "code",
   "execution_count": 25,
   "metadata": {},
   "outputs": [
    {
     "name": "stdout",
     "output_type": "stream",
     "text": [
      "accuracy  1.0\n",
      "confusion matrix [[5, 0], [5, 0]]\n",
      "precision 1.0\n",
      "recall 1.0\n",
      "F1 1.0\n"
     ]
    }
   ],
   "source": [
    "my_metrics()"
   ]
  },
  {
   "cell_type": "markdown",
   "metadata": {},
   "source": [
    "### 6. Могла ли модель переобучиться? Почему?"
   ]
  },
  {
   "cell_type": "markdown",
   "metadata": {},
   "source": [
    "очевидно переобучилась, очень большие коэффициенты W. Нужна регуляризация"
   ]
  },
  {
   "cell_type": "markdown",
   "metadata": {},
   "source": [
    "### 7*. Создайте функции eval_model_l1 и eval_model_l2 с применением L1 и L2 регуляризаций соответственно."
   ]
  },
  {
   "cell_type": "code",
   "execution_count": 26,
   "metadata": {},
   "outputs": [],
   "source": [
    "def calc_logloss_l1(y, y_pred, w, lambd):\n",
    "    \n",
    "    y_pred = np.where(y_pred *(1 - y_pred) == 0, np.abs(y_pred - 10e-9), y_pred)\n",
    "    \n",
    "    err = - np.mean(y * np.log(y_pred) + (1.0 - y) * np.log(1.0 - y_pred)) + lambd * sum(np.abs(w))\n",
    "    err = np.sum(err)\n",
    "    return err"
   ]
  },
  {
   "cell_type": "code",
   "execution_count": 27,
   "metadata": {},
   "outputs": [],
   "source": [
    "def calc_logloss_l2(y, y_pred, w, lambd):\n",
    "    \n",
    "    y_pred = np.where(y_pred *(1 - y_pred) == 0, np.abs(y_pred - 10e-9), y_pred)\n",
    "    \n",
    "    err = - np.mean(y * np.log(y_pred) + (1.0 - y) * np.log(1.0 - y_pred)) + lambd * sum(w * w)\n",
    "    err = np.sum(err)\n",
    "    return err"
   ]
  },
  {
   "cell_type": "code",
   "execution_count": 28,
   "metadata": {},
   "outputs": [],
   "source": [
    "def eval_model_l1(X, y, iterations, alpha=1e-4, lambd=1):\n",
    "    np.random.seed(70)\n",
    "    W = np.random.randn(X.shape[0])\n",
    "    n = X.shape[1]\n",
    "    for i in range(1, iterations+2):\n",
    "        z = np.dot(W, X)\n",
    "        \n",
    "        y_pred = sigmoid(z)\n",
    "        err = calc_logloss_l1(y, y_pred, W, lambd)\n",
    "        \n",
    "        grad = alpha * (1/n * np.dot((y_pred - y), X.T) + lambd * (np.sign(W)))\n",
    "        \n",
    "        if i % (iterations / 10) == 1:\n",
    "            print(i, W, err)\n",
    "            #print('---grad:', grad.round(2))\n",
    "            #print('---prob', y_pred.round(2))\n",
    "        \n",
    "        W -= grad\n",
    "            \n",
    "    return W"
   ]
  },
  {
   "cell_type": "code",
   "execution_count": 29,
   "metadata": {},
   "outputs": [
    {
     "name": "stdout",
     "output_type": "stream",
     "text": [
      "1 [ 0.85099741  0.17775492 -0.85303971 -0.44389968] 1.0162974731357999\n",
      "91 [-1.22532394 -0.75968891  0.6419791   2.51717604] 0.5746462565457006\n",
      "181 [-2.18759917 -0.72399987  0.17341486  2.93758044] 0.5402961277435887\n",
      "271 [-2.68390078 -0.73968073  0.03038346  3.19703889] 0.5272579101100094\n",
      "361 [-2.82452387 -0.75755146  0.03411397  3.27170161] 0.522876239398357\n",
      "451 [-2.85711548 -0.76328689  0.05468975  3.29818103] 0.5238990813501256\n",
      "541 [-2.87625483 -0.762863    0.03583094  3.29423053] 0.5212441088757023\n",
      "631 [-2.88048377 -0.76295739  0.03497938  3.29619706] 0.5211684441083613\n",
      "721 [-2.87299586 -0.76772689  0.0546856   3.30623894] 0.5227278808423257\n",
      "811 [-2.87402524 -0.76373652  0.04888053  3.30690151] 0.5235301077291629\n",
      "901 [-2.87838753 -0.75872664  0.04341208  3.30137879] 0.5236379193154511\n"
     ]
    }
   ],
   "source": [
    "W = eval_model_l1(X_st, y, iterations=900, alpha=0.9, lambd=0.02) "
   ]
  },
  {
   "cell_type": "code",
   "execution_count": 30,
   "metadata": {},
   "outputs": [
    {
     "data": {
      "text/plain": [
       "array([0.31833984, 0.31734158, 0.80134005, 0.00783083, 0.58881005,\n",
       "       0.56247427, 0.81760836, 0.02636697, 0.31858967, 0.80042226])"
      ]
     },
     "execution_count": 30,
     "metadata": {},
     "output_type": "execute_result"
    }
   ],
   "source": [
    "calc_pred_proba(X_st, W)"
   ]
  },
  {
   "cell_type": "code",
   "execution_count": 31,
   "metadata": {},
   "outputs": [
    {
     "data": {
      "text/plain": [
       "array([0, 0, 1, 0, 1, 1, 1, 0, 0, 1])"
      ]
     },
     "execution_count": 31,
     "metadata": {},
     "output_type": "execute_result"
    }
   ],
   "source": [
    "calc_pred(X_st, W)"
   ]
  },
  {
   "cell_type": "code",
   "execution_count": 32,
   "metadata": {},
   "outputs": [
    {
     "name": "stdout",
     "output_type": "stream",
     "text": [
      "accuracy  0.8\n",
      "confusion matrix [[4, 1], [4, 1]]\n",
      "precision 0.8\n",
      "recall 0.8\n",
      "F1 0.8000000000000002\n"
     ]
    }
   ],
   "source": [
    "my_metrics()"
   ]
  },
  {
   "cell_type": "code",
   "execution_count": 33,
   "metadata": {},
   "outputs": [],
   "source": [
    "def eval_model_l2(X, y, iterations, alpha=1e-4, lambd=1):\n",
    "    np.random.seed(70)\n",
    "    W = np.random.randn(X.shape[0])\n",
    "    n = X.shape[1]\n",
    "    for i in range(1, iterations+2):\n",
    "        z = np.dot(W, X)\n",
    "        \n",
    "        y_pred = sigmoid(z)\n",
    "        err = calc_logloss_l2(y, y_pred, W, lambd)\n",
    "        \n",
    "        grad = alpha * (1/n * np.dot((y_pred - y), X.T) + lambd * (W))\n",
    "        \n",
    "        if i % (iterations / 10) == 1:\n",
    "            print(i, W, err)\n",
    "            #print('---grad:', grad.round(2))\n",
    "            #print('---prob', y_pred.round(2))\n",
    "        \n",
    "        W -= grad\n",
    "            \n",
    "    return W"
   ]
  },
  {
   "cell_type": "code",
   "execution_count": 34,
   "metadata": {},
   "outputs": [
    {
     "name": "stdout",
     "output_type": "stream",
     "text": [
      "1 [ 0.85099741  0.17775492 -0.85303971 -0.44389968] 0.986588809446992\n",
      "91 [-1.32085824 -0.8141128   0.74507677  2.55774959] 0.5429644904720489\n",
      "181 [-1.89362793 -0.78337874  0.4574037   2.82309776] 0.5473921363391134\n",
      "271 [-2.05748017 -0.77519572  0.37841918  2.89463535] 0.549936124386587\n",
      "361 [-2.10365561 -0.77315641  0.35630242  2.91502833] 0.5507964810802898\n",
      "451 [-2.11667876 -0.77258862  0.35007502  2.92079482] 0.5510546779979679\n",
      "541 [-2.12035296 -0.77242912  0.34831907  2.92242268] 0.5511286894793126\n",
      "631 [-2.12138962 -0.77238417  0.34782371  2.92288206] 0.5511496644028082\n",
      "721 [-2.12168211 -0.77237149  0.34768395  2.92301167] 0.5511555898827053\n",
      "811 [-2.12176464 -0.77236792  0.34764452  2.92304825] 0.5511572623553216\n",
      "901 [-2.12178792 -0.77236691  0.34763339  2.92305857] 0.5511577342936376\n"
     ]
    }
   ],
   "source": [
    "W = eval_model_l2(X_st, y, iterations=900, alpha=0.9, lambd=0.01) "
   ]
  },
  {
   "cell_type": "code",
   "execution_count": 35,
   "metadata": {},
   "outputs": [
    {
     "data": {
      "text/plain": [
       "array([0, 0, 1, 0, 1, 1, 1, 0, 0, 1])"
      ]
     },
     "execution_count": 35,
     "metadata": {},
     "output_type": "execute_result"
    }
   ],
   "source": [
    "calc_pred(X_st, W)"
   ]
  },
  {
   "cell_type": "code",
   "execution_count": 36,
   "metadata": {},
   "outputs": [
    {
     "name": "stdout",
     "output_type": "stream",
     "text": [
      "accuracy  0.8\n",
      "confusion matrix [[4, 1], [4, 1]]\n",
      "precision 0.8\n",
      "recall 0.8\n",
      "F1 0.8000000000000002\n"
     ]
    }
   ],
   "source": [
    "my_metrics()"
   ]
  },
  {
   "cell_type": "code",
   "execution_count": null,
   "metadata": {},
   "outputs": [],
   "source": []
  }
 ],
 "metadata": {
  "colab": {
   "collapsed_sections": [],
   "name": "Lesson3.ipynb",
   "provenance": []
  },
  "kernelspec": {
   "display_name": "Python 3",
   "language": "python",
   "name": "python3"
  },
  "language_info": {
   "codemirror_mode": {
    "name": "ipython",
    "version": 3
   },
   "file_extension": ".py",
   "mimetype": "text/x-python",
   "name": "python",
   "nbconvert_exporter": "python",
   "pygments_lexer": "ipython3",
   "version": "3.7.4"
  }
 },
 "nbformat": 4,
 "nbformat_minor": 1
}
